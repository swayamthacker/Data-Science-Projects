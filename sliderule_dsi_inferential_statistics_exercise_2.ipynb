{
 "cells": [
  {
   "cell_type": "markdown",
   "metadata": {},
   "source": [
    "\n",
    "### Examining racial discrimination in the US job market\n",
    "\n",
    "#### Background\n",
    "Racial discrimination continues to be pervasive in cultures throughout the world. Researchers examined the level of racial discrimination in the United States labor market by randomly assigning identical résumés black-sounding or white-sounding names and observing the impact on requests for interviews from employers.\n",
    "\n",
    "#### Data\n",
    "In the dataset provided, each row represents a resume. The 'race' column has two values, 'b' and 'w', indicating black-sounding and white-sounding. The column 'call' has two values, 1 and 0, indicating whether the resume received a call from employers or not.\n",
    "\n",
    "Note that the 'b' and 'w' values in race are assigned randomly to the resumes.\n",
    "\n",
    "#### Exercise\n",
    "You will perform a statistical analysis to establish whether race has a significant impact on the rate of callbacks for resumes.\n",
    "\n",
    "Answer the following questions **in this notebook below and submit to your Github account**. \n",
    "\n",
    "   1. What test is appropriate for this problem? Does CLT apply?\n",
    "   2. What are the null and alternate hypotheses?\n",
    "   3. Compute margin of error, confidence interval, and p-value.\n",
    "   4. Discuss statistical significance.\n",
    "\n",
    "You can include written notes in notebook cells using Markdown: \n",
    "   - In the control panel at the top, choose Cell > Cell Type > Markdown\n",
    "   - Markdown syntax: http://nestacms.com/docs/creating-content/markdown-cheat-sheet\n",
    "\n",
    "\n",
    "#### Resources\n",
    "+ Experiment information and data source: http://www.povertyactionlab.org/evaluation/discrimination-job-market-united-states\n",
    "+ Scipy statistical methods: http://docs.scipy.org/doc/scipy/reference/stats.html \n",
    "+ Markdown syntax: http://nestacms.com/docs/creating-content/markdown-cheat-sheet\n",
    "\n",
    "****"
   ]
  },
  {
   "cell_type": "code",
   "execution_count": 28,
   "metadata": {
    "collapsed": true
   },
   "outputs": [],
   "source": [
    "import pandas as pd\n",
    "import numpy as np\n",
    "from scipy import stats\n",
    "import math"
   ]
  },
  {
   "cell_type": "code",
   "execution_count": 4,
   "metadata": {
    "collapsed": false
   },
   "outputs": [
    {
     "name": "stdout",
     "output_type": "stream",
     "text": [
      "     id   ad  education  ofjobs  yearsexp  honors  volunteer  military  \\\n",
      "0     b    1          4       2         6       0          0         0   \n",
      "1     b    1          3       3         6       0          1         1   \n",
      "2     b    1          4       1         6       0          0         0   \n",
      "3     b    1          3       4         6       0          1         0   \n",
      "4     b    1          3       3        22       0          0         0   \n",
      "5     b    1          4       2         6       1          0         0   \n",
      "6     b    1          4       2         5       0          1         0   \n",
      "7     b    1          3       4        21       0          1         0   \n",
      "8     b    1          4       3         3       0          0         0   \n",
      "9     b    1          4       2         6       0          1         0   \n",
      "10    b    1          4       4         8       0          1         0   \n",
      "11    b    1          4       4         8       0          0         0   \n",
      "12    b    1          4       4         4       0          0         0   \n",
      "13    b    1          4       2         4       0          0         0   \n",
      "14    b    1          4       2         5       0          1         0   \n",
      "15    b    1          1       3         4       0          0         0   \n",
      "16    b    1          4       3         5       0          1         0   \n",
      "17    b    1          4       3         6       0          0         0   \n",
      "18    b    1          4       2         6       1          1         0   \n",
      "19    b    1          2       2         8       0          0         0   \n",
      "20    b    1          4       3         4       0          1         0   \n",
      "21    b    1          4       3         3       0          0         0   \n",
      "22    b    1          2       2         2       0          0         0   \n",
      "23    b    1          4       3         7       0          0         0   \n",
      "24    b    1          4       3         3       0          1         0   \n",
      "25    b    1          4       4         6       0          0         0   \n",
      "26    b    1          1       3         4       0          1         0   \n",
      "27    b    1          3       4         6       0          1         0   \n",
      "28    b    1          3       3         7       0          0         0   \n",
      "29    b    1          4       3         2       0          0         0   \n",
      "...  ..  ...        ...     ...       ...     ...        ...       ...   \n",
      "4840  a  93b          4       3         7       0          0         0   \n",
      "4841  a  93b          4       6         8       0          1         0   \n",
      "4842  b   95          3       6        16       0          1         0   \n",
      "4843  b   95          4       4        11       0          0         0   \n",
      "4844  b   95          3       2         2       0          0         0   \n",
      "4845  b   95          4       1         5       0          1         0   \n",
      "4846  a  95b          4       4         2       0          1         1   \n",
      "4847  a  95b          4       3         7       0          0         0   \n",
      "4848  a  95b          4       6         8       0          1         0   \n",
      "4849  a  95b          4       4         6       0          0         0   \n",
      "4850  b   96          3       5         4       0          0         0   \n",
      "4851  b   96          2       4        19       0          1         0   \n",
      "4852  b   96          3       5        13       0          0         0   \n",
      "4853  b   96          3       7        18       0          1         0   \n",
      "4854  a  96b          4       6         8       0          1         0   \n",
      "4855  a  96b          4       3         7       0          0         0   \n",
      "4856  a  96b          4       4         6       0          0         0   \n",
      "4857  a  96b          4       4         2       0          1         1   \n",
      "4858  a  98b          4       4         2       0          1         1   \n",
      "4859  a  98b          4       4         6       0          0         0   \n",
      "4860  a  98b          4       6         8       0          1         0   \n",
      "4861  a  98b          4       3         7       0          0         0   \n",
      "4862  b   99          3       5        13       0          0         0   \n",
      "4863  b   99          2       4        16       0          0         0   \n",
      "4864  b   99          3       5        26       1          1         0   \n",
      "4865  b   99          3       2         1       0          0         0   \n",
      "4866  a  99b          4       4         6       0          0         0   \n",
      "4867  a  99b          4       6         8       0          1         0   \n",
      "4868  a  99b          4       4         2       0          1         1   \n",
      "4869  a  99b          4       3         7       0          0         0   \n",
      "\n",
      "      empholes  occupspecific    ...      compreq  orgreq  manuf  transcom  \\\n",
      "0            1             17    ...          1.0     0.0    1.0       0.0   \n",
      "1            0            316    ...          1.0     0.0    1.0       0.0   \n",
      "2            0             19    ...          1.0     0.0    1.0       0.0   \n",
      "3            1            313    ...          1.0     0.0    1.0       0.0   \n",
      "4            0            313    ...          1.0     1.0    0.0       0.0   \n",
      "5            0            266    ...          0.0     0.0    0.0       0.0   \n",
      "6            0             13    ...          0.0     0.0    0.0       0.0   \n",
      "7            1            313    ...          1.0     1.0    0.0       0.0   \n",
      "8            0            316    ...          0.0     0.0    0.0       0.0   \n",
      "9            0            263    ...          0.0     0.0    0.0       0.0   \n",
      "10           1            379    ...          1.0     0.0    0.0       0.0   \n",
      "11           0            316    ...          1.0     0.0    0.0       0.0   \n",
      "12           1             27    ...          1.0     1.0    0.0       0.0   \n",
      "13           0             21    ...          1.0     1.0    0.0       0.0   \n",
      "14           0            263    ...          0.0     0.0    0.0       0.0   \n",
      "15           0            316    ...          0.0     0.0    0.0       0.0   \n",
      "16           0            268    ...          0.0     0.0    0.0       0.0   \n",
      "17           0            267    ...          0.0     0.0    0.0       0.0   \n",
      "18           0            266    ...          0.0     0.0    0.0       0.0   \n",
      "19           1            265    ...          0.0     0.0    0.0       0.0   \n",
      "20           0            316    ...          0.0     0.0    0.0       0.0   \n",
      "21           0            317    ...          0.0     0.0    0.0       0.0   \n",
      "22           0            265    ...          0.0     0.0    0.0       0.0   \n",
      "23           1            313    ...          1.0     0.0    0.0       0.0   \n",
      "24           0            316    ...          0.0     0.0    0.0       0.0   \n",
      "25           1            313    ...          1.0     0.0    0.0       0.0   \n",
      "26           0            316    ...          0.0     0.0    0.0       0.0   \n",
      "27           1            313    ...          1.0     0.0    0.0       0.0   \n",
      "28           0            313    ...          1.0     0.0    0.0       0.0   \n",
      "29           0            317    ...          0.0     0.0    0.0       0.0   \n",
      "...        ...            ...    ...          ...     ...    ...       ...   \n",
      "4840         1            274    ...          0.0     0.0    0.0       0.0   \n",
      "4841         0             21    ...          0.0     0.0    0.0       0.0   \n",
      "4842         0             21    ...          1.0     0.0    0.0       0.0   \n",
      "4843         0            387    ...          1.0     0.0    0.0       0.0   \n",
      "4844         1            379    ...          1.0     0.0    0.0       0.0   \n",
      "4845         0            379    ...          1.0     0.0    0.0       0.0   \n",
      "4846         0            267    ...          0.0     0.0    0.0       0.0   \n",
      "4847         1            274    ...          0.0     0.0    0.0       0.0   \n",
      "4848         0             21    ...          0.0     0.0    0.0       0.0   \n",
      "4849         0            285    ...          0.0     0.0    0.0       0.0   \n",
      "4850         1            443    ...          0.0     0.0    0.0       0.0   \n",
      "4851         0             22    ...          0.0     0.0    0.0       0.0   \n",
      "4852         1            307    ...          0.0     0.0    0.0       0.0   \n",
      "4853         1            304    ...          0.0     0.0    0.0       0.0   \n",
      "4854         0             21    ...          0.0     0.0    0.0       0.0   \n",
      "4855         1            274    ...          0.0     0.0    0.0       0.0   \n",
      "4856         0            285    ...          0.0     0.0    0.0       0.0   \n",
      "4857         0            267    ...          0.0     0.0    0.0       0.0   \n",
      "4858         0            267    ...          0.0     0.0    0.0       0.0   \n",
      "4859         0            285    ...          0.0     0.0    0.0       0.0   \n",
      "4860         0             21    ...          0.0     0.0    0.0       0.0   \n",
      "4861         1            274    ...          0.0     0.0    0.0       0.0   \n",
      "4862         0             27    ...          1.0     0.0    0.0       0.0   \n",
      "4863         1             27    ...          1.0     0.0    0.0       0.0   \n",
      "4864         1            313    ...          1.0     0.0    0.0       0.0   \n",
      "4865         1            313    ...          1.0     0.0    0.0       0.0   \n",
      "4866         0            285    ...          0.0     0.0    0.0       0.0   \n",
      "4867         0             21    ...          0.0     0.0    0.0       0.0   \n",
      "4868         0            267    ...          0.0     0.0    0.0       0.0   \n",
      "4869         1            274    ...          0.0     0.0    0.0       0.0   \n",
      "\n",
      "      bankreal trade busservice othservice  missind  ownership  \n",
      "0          0.0   0.0        0.0        0.0      0.0             \n",
      "1          0.0   0.0        0.0        0.0      0.0             \n",
      "2          0.0   0.0        0.0        0.0      0.0             \n",
      "3          0.0   0.0        0.0        0.0      0.0             \n",
      "4          0.0   0.0        0.0        1.0      0.0  Nonprofit  \n",
      "5          0.0   1.0        0.0        0.0      0.0    Private  \n",
      "6          0.0   1.0        0.0        0.0      0.0    Private  \n",
      "7          0.0   0.0        0.0        1.0      0.0  Nonprofit  \n",
      "8          0.0   1.0        0.0        0.0      0.0    Private  \n",
      "9          0.0   1.0        0.0        0.0      0.0    Private  \n",
      "10         0.0   0.0        0.0        1.0      0.0  Nonprofit  \n",
      "11         0.0   0.0        0.0        1.0      0.0  Nonprofit  \n",
      "12         0.0   0.0        1.0        0.0      0.0    Private  \n",
      "13         0.0   0.0        1.0        0.0      0.0    Private  \n",
      "14         0.0   1.0        0.0        0.0      0.0             \n",
      "15         0.0   1.0        0.0        0.0      0.0             \n",
      "16         0.0   1.0        0.0        0.0      0.0             \n",
      "17         0.0   1.0        0.0        0.0      0.0             \n",
      "18         0.0   1.0        0.0        0.0      0.0    Private  \n",
      "19         0.0   1.0        0.0        0.0      0.0    Private  \n",
      "20         0.0   1.0        0.0        0.0      0.0    Private  \n",
      "21         0.0   1.0        0.0        0.0      0.0    Private  \n",
      "22         0.0   1.0        0.0        0.0      0.0             \n",
      "23         0.0   0.0        0.0        1.0      0.0  Nonprofit  \n",
      "24         0.0   1.0        0.0        0.0      0.0             \n",
      "25         0.0   0.0        0.0        1.0      0.0  Nonprofit  \n",
      "26         0.0   1.0        0.0        0.0      0.0             \n",
      "27         0.0   0.0        0.0        1.0      0.0  Nonprofit  \n",
      "28         0.0   0.0        0.0        1.0      0.0  Nonprofit  \n",
      "29         0.0   1.0        0.0        0.0      0.0             \n",
      "...        ...   ...        ...        ...      ...        ...  \n",
      "4840       0.0   1.0        0.0        0.0      0.0    Private  \n",
      "4841       0.0   1.0        0.0        0.0      0.0    Private  \n",
      "4842       0.0   0.0        1.0        0.0      0.0     Public  \n",
      "4843       0.0   0.0        1.0        0.0      0.0     Public  \n",
      "4844       0.0   0.0        1.0        0.0      0.0     Public  \n",
      "4845       0.0   0.0        1.0        0.0      0.0     Public  \n",
      "4846       0.0   1.0        0.0        0.0      0.0    Private  \n",
      "4847       0.0   1.0        0.0        0.0      0.0    Private  \n",
      "4848       0.0   1.0        0.0        0.0      0.0    Private  \n",
      "4849       0.0   1.0        0.0        0.0      0.0    Private  \n",
      "4850       0.0   0.0        1.0        0.0      0.0    Private  \n",
      "4851       0.0   0.0        1.0        0.0      0.0    Private  \n",
      "4852       0.0   0.0        1.0        0.0      0.0    Private  \n",
      "4853       0.0   0.0        1.0        0.0      0.0    Private  \n",
      "4854       0.0   0.0        0.0        0.0      1.0             \n",
      "4855       0.0   0.0        0.0        0.0      1.0             \n",
      "4856       0.0   0.0        0.0        0.0      1.0             \n",
      "4857       0.0   0.0        0.0        0.0      1.0             \n",
      "4858       0.0   1.0        0.0        0.0      0.0    Private  \n",
      "4859       0.0   1.0        0.0        0.0      0.0    Private  \n",
      "4860       0.0   1.0        0.0        0.0      0.0    Private  \n",
      "4861       0.0   1.0        0.0        0.0      0.0    Private  \n",
      "4862       1.0   0.0        0.0        0.0      0.0    Private  \n",
      "4863       1.0   0.0        0.0        0.0      0.0    Private  \n",
      "4864       1.0   0.0        0.0        0.0      0.0    Private  \n",
      "4865       1.0   0.0        0.0        0.0      0.0    Private  \n",
      "4866       0.0   0.0        0.0        0.0      1.0             \n",
      "4867       0.0   0.0        0.0        0.0      1.0             \n",
      "4868       0.0   0.0        0.0        0.0      1.0             \n",
      "4869       0.0   0.0        0.0        0.0      1.0             \n",
      "\n",
      "[4870 rows x 65 columns]\n"
     ]
    }
   ],
   "source": [
    "data = pd.io.stata.read_stata('data/us_job_market_discrimination.dta')\n",
    "print data"
   ]
  },
  {
   "cell_type": "code",
   "execution_count": 45,
   "metadata": {
    "collapsed": false
   },
   "outputs": [
    {
     "data": {
      "text/plain": [
       "157.0"
      ]
     },
     "execution_count": 45,
     "metadata": {},
     "output_type": "execute_result"
    }
   ],
   "source": [
    "# number of callbacks for balck-sounding names\n",
    "sum(data[data.race=='b'].call)"
   ]
  },
  {
   "cell_type": "code",
   "execution_count": 9,
   "metadata": {
    "collapsed": false
   },
   "outputs": [
    {
     "data": {
      "text/plain": [
       "2435"
      ]
     },
     "execution_count": 9,
     "metadata": {},
     "output_type": "execute_result"
    }
   ],
   "source": [
    "len(data[data.race=='w'])"
   ]
  },
  {
   "cell_type": "code",
   "execution_count": 10,
   "metadata": {
    "collapsed": false
   },
   "outputs": [
    {
     "data": {
      "text/plain": [
       "2435"
      ]
     },
     "execution_count": 10,
     "metadata": {},
     "output_type": "execute_result"
    }
   ],
   "source": [
    "len(data[data.race=='b'])"
   ]
  },
  {
   "cell_type": "code",
   "execution_count": 11,
   "metadata": {
    "collapsed": true
   },
   "outputs": [],
   "source": [
    "#1) We have more than 30 samples for both black and white populations. Thus CLT applies and you can use the z-test to d a\n",
    "#two-sided hypothesis test to see if race has an impact on resume callbacks"
   ]
  },
  {
   "cell_type": "code",
   "execution_count": 12,
   "metadata": {
    "collapsed": true
   },
   "outputs": [],
   "source": [
    "#2)\n",
    "#white proportion of callbacks = p1\n",
    "#black proportion of callbacks = p2\n",
    "#Ho: no sig diff -> p1 - p2 = 0 -> implying race has no impact on callbacks\n",
    "#Ha: sig diff-> p1 - p2 Not equal to 0"
   ]
  },
  {
   "cell_type": "code",
   "execution_count": 23,
   "metadata": {
    "collapsed": true
   },
   "outputs": [],
   "source": [
    "#3)\n",
    "p1 = sum(data[data.race == 'w'].call)/len(data[data.race == 'w'])"
   ]
  },
  {
   "cell_type": "code",
   "execution_count": 14,
   "metadata": {
    "collapsed": false
   },
   "outputs": [
    {
     "data": {
      "text/plain": [
       "0.096509240246406572"
      ]
     },
     "execution_count": 14,
     "metadata": {},
     "output_type": "execute_result"
    }
   ],
   "source": [
    "p1"
   ]
  },
  {
   "cell_type": "code",
   "execution_count": 21,
   "metadata": {
    "collapsed": false
   },
   "outputs": [
    {
     "data": {
      "text/plain": [
       "0.064476386036960986"
      ]
     },
     "execution_count": 21,
     "metadata": {},
     "output_type": "execute_result"
    }
   ],
   "source": [
    "p2 = sum(data[data.race == 'b'].call)/len(data[data.race == 'b'])\n",
    "p2"
   ]
  },
  {
   "cell_type": "code",
   "execution_count": 31,
   "metadata": {
    "collapsed": false
   },
   "outputs": [
    {
     "data": {
      "text/plain": [
       "0.032032854209445585"
      ]
     },
     "execution_count": 31,
     "metadata": {},
     "output_type": "execute_result"
    }
   ],
   "source": [
    "proportionDiff = p1 - p2\n",
    "proportionDiff"
   ]
  },
  {
   "cell_type": "code",
   "execution_count": 26,
   "metadata": {
    "collapsed": false
   },
   "outputs": [
    {
     "data": {
      "text/plain": [
       "6.0580857689544847e-05"
      ]
     },
     "execution_count": 26,
     "metadata": {},
     "output_type": "execute_result"
    }
   ],
   "source": [
    "#this is a bernoulli dist, where variance of a variable is p*(1-p)\n",
    "j = (p1*(1-p1)/len(data[data.race == 'w'])) + (p2*(1-p2)/len(data[data.race == 'b']))\n",
    "j"
   ]
  },
  {
   "cell_type": "code",
   "execution_count": 29,
   "metadata": {
    "collapsed": false
   },
   "outputs": [
    {
     "data": {
      "text/plain": [
       "0.0077833705866767544"
      ]
     },
     "execution_count": 29,
     "metadata": {},
     "output_type": "execute_result"
    }
   ],
   "source": [
    "stdDev = math.sqrt(j)\n",
    "stdDev"
   ]
  },
  {
   "cell_type": "code",
   "execution_count": 30,
   "metadata": {
    "collapsed": false
   },
   "outputs": [
    {
     "data": {
      "text/plain": [
       "0.015255406349886438"
      ]
     },
     "execution_count": 30,
     "metadata": {},
     "output_type": "execute_result"
    }
   ],
   "source": [
    "#assume alpha = 5%, we get critical z value of 1.96\n",
    "d = 1.96*stdDev\n",
    "d"
   ]
  },
  {
   "cell_type": "code",
   "execution_count": 40,
   "metadata": {
    "collapsed": false
   },
   "outputs": [
    {
     "data": {
      "text/plain": [
       "0.016777447859559147"
      ]
     },
     "execution_count": 40,
     "metadata": {},
     "output_type": "execute_result"
    }
   ],
   "source": [
    "#Confidence Interval\n",
    "lowerInterval = proportionDiff - d\n",
    "lowerInterval"
   ]
  },
  {
   "cell_type": "code",
   "execution_count": 33,
   "metadata": {
    "collapsed": false
   },
   "outputs": [
    {
     "data": {
      "text/plain": [
       "0.047288260559332024"
      ]
     },
     "execution_count": 33,
     "metadata": {},
     "output_type": "execute_result"
    }
   ],
   "source": [
    "higherInterval = proportionDiff + d\n",
    "higherInterval"
   ]
  },
  {
   "cell_type": "code",
   "execution_count": 37,
   "metadata": {
    "collapsed": false
   },
   "outputs": [
    {
     "data": {
      "text/plain": [
       "0.080492813141683772"
      ]
     },
     "execution_count": 37,
     "metadata": {},
     "output_type": "execute_result"
    }
   ],
   "source": [
    "#4) hypothesis testing\n",
    "#under H0 above, p1 - p2 = 0, or p1 = p2 = p\n",
    "p = sum(data.call)/len(data.race)\n",
    "p\n",
    "#had assumed no diff between black and white callbacks. si we can view that as a sample size of len(black) + len(white)\n",
    "#and do the calculation as above"
   ]
  },
  {
   "cell_type": "code",
   "execution_count": 38,
   "metadata": {
    "collapsed": false
   },
   "outputs": [
    {
     "data": {
      "text/plain": [
       "4870"
      ]
     },
     "execution_count": 38,
     "metadata": {},
     "output_type": "execute_result"
    }
   ],
   "source": [
    "totalLen = len(data.race)\n",
    "totalLen"
   ]
  },
  {
   "cell_type": "code",
   "execution_count": 41,
   "metadata": {
    "collapsed": false
   },
   "outputs": [
    {
     "data": {
      "text/plain": [
       "0.005513236645169081"
      ]
     },
     "execution_count": 41,
     "metadata": {},
     "output_type": "execute_result"
    }
   ],
   "source": [
    "stdDev = math.sqrt(2*p*(1-p)/totalLen)\n",
    "stdDev"
   ]
  },
  {
   "cell_type": "code",
   "execution_count": 42,
   "metadata": {
    "collapsed": false
   },
   "outputs": [
    {
     "data": {
      "text/plain": [
       "5.8101721857910924"
      ]
     },
     "execution_count": 42,
     "metadata": {},
     "output_type": "execute_result"
    }
   ],
   "source": [
    "z = (proportionDiff - 0)/stdDev\n",
    "z"
   ]
  },
  {
   "cell_type": "code",
   "execution_count": 43,
   "metadata": {
    "collapsed": true
   },
   "outputs": [],
   "source": [
    "#For alpha  = 5%, for a two-sided test, z = 1.96.\n",
    "# we got 5.8.\n",
    "#so reject H0, accept Ha"
   ]
  },
  {
   "cell_type": "code",
   "execution_count": 46,
   "metadata": {
    "collapsed": false
   },
   "outputs": [
    {
     "data": {
      "text/plain": [
       "0.032032854209445585"
      ]
     },
     "execution_count": 46,
     "metadata": {},
     "output_type": "execute_result"
    }
   ],
   "source": [
    "pValue = z*stdDev\n",
    "pValue"
   ]
  },
  {
   "cell_type": "code",
   "execution_count": null,
   "metadata": {
    "collapsed": true
   },
   "outputs": [],
   "source": []
  }
 ],
 "metadata": {
  "kernelspec": {
   "display_name": "Python 2",
   "language": "python",
   "name": "python2"
  },
  "language_info": {
   "codemirror_mode": {
    "name": "ipython",
    "version": 2
   },
   "file_extension": ".py",
   "mimetype": "text/x-python",
   "name": "python",
   "nbconvert_exporter": "python",
   "pygments_lexer": "ipython2",
   "version": "2.7.11"
  }
 },
 "nbformat": 4,
 "nbformat_minor": 0
}
