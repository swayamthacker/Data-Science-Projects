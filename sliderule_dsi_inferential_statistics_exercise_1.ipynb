{
 "cells": [
  {
   "cell_type": "markdown",
   "metadata": {},
   "source": [
    "## What is the true normal human body temperature? \n",
    "\n",
    "#### Background\n",
    "\n",
    "The mean normal body temperature was held to be 37$^{\\circ}$C or 98.6$^{\\circ}$F for more than 120 years since it was first conceptualized and reported by Carl Wunderlich in a famous 1868 book. In 1992, this value was revised to 36.8$^{\\circ}$C or 98.2$^{\\circ}$F. \n",
    "\n",
    "#### Exercise\n",
    "In this exercise, you will analyze a dataset of human body temperatures and employ the concepts of hypothesis testing, confidence intervals, and statistical significance.\n",
    "\n",
    "Answer the following questions **in this notebook below and submit to your Github account**. \n",
    "\n",
    "1.  Is the distribution of body temperatures normal? \n",
    "    - Remember that this is a condition for the CLT, and hence the statistical tests we are using, to apply. \n",
    "2.  Is the true population mean really 98.6 degrees F?\n",
    "    - Bring out the one sample hypothesis test! In this situation, is it approriate to apply a z-test or a t-test? How will the result be different?\n",
    "3.  At what temperature should we consider someone's temperature to be \"abnormal\"?\n",
    "    - Start by computing the margin of error and confidence interval.\n",
    "4.  Is there a significant difference between males and females in normal temperature?\n",
    "    - Set up and solve for a two sample hypothesis testing.\n",
    "\n",
    "You can include written notes in notebook cells using Markdown: \n",
    "   - In the control panel at the top, choose Cell > Cell Type > Markdown\n",
    "   - Markdown syntax: http://nestacms.com/docs/creating-content/markdown-cheat-sheet\n",
    "\n",
    "#### Resources\n",
    "\n",
    "+ Information and data sources: http://www.amstat.org/publications/jse/datasets/normtemp.txt, http://www.amstat.org/publications/jse/jse_data_archive.htm\n",
    "+ Markdown syntax: http://nestacms.com/docs/creating-content/markdown-cheat-sheet\n",
    "\n",
    "****"
   ]
  },
  {
   "cell_type": "code",
   "execution_count": 3,
   "metadata": {
    "collapsed": true
   },
   "outputs": [],
   "source": [
    "import pandas as pd\n",
    "import math"
   ]
  },
  {
   "cell_type": "code",
   "execution_count": 6,
   "metadata": {
    "collapsed": false
   },
   "outputs": [
    {
     "name": "stdout",
     "output_type": "stream",
     "text": [
      "     temperature gender  heart_rate\n",
      "0           99.3      F        68.0\n",
      "1           98.4      F        81.0\n",
      "2           97.8      M        73.0\n",
      "3           99.2      F        66.0\n",
      "4           98.0      F        73.0\n",
      "5           99.2      M        83.0\n",
      "6           98.0      M        71.0\n",
      "7           98.8      M        78.0\n",
      "8           98.4      F        84.0\n",
      "9           98.6      F        86.0\n",
      "10          98.8      F        89.0\n",
      "11          96.7      F        62.0\n",
      "12          98.2      M        72.0\n",
      "13          98.7      F        79.0\n",
      "14          97.8      F        77.0\n",
      "15          98.8      F        83.0\n",
      "16          98.3      F        79.0\n",
      "17          98.2      M        64.0\n",
      "18          97.2      F        68.0\n",
      "19          99.4      M        70.0\n",
      "20          98.3      F        78.0\n",
      "21          98.2      M        71.0\n",
      "22          98.6      M        70.0\n",
      "23          98.4      M        68.0\n",
      "24          97.8      M        65.0\n",
      "25          98.0      F        87.0\n",
      "26          97.8      F        62.0\n",
      "27          98.2      F        69.0\n",
      "28          98.4      F        73.0\n",
      "29          98.1      M        67.0\n",
      "..           ...    ...         ...\n",
      "100         99.0      M        81.0\n",
      "101         98.5      M        68.0\n",
      "102         98.0      F        78.0\n",
      "103         99.4      F        77.0\n",
      "104         97.6      M        69.0\n",
      "105         96.7      M        71.0\n",
      "106         97.0      M        80.0\n",
      "107         98.6      M        66.0\n",
      "108         98.7      F        72.0\n",
      "109         97.3      M        69.0\n",
      "110         98.8      F        69.0\n",
      "111         98.0      F        89.0\n",
      "112         98.2      F        64.0\n",
      "113         99.1      F        74.0\n",
      "114         99.0      M        79.0\n",
      "115         98.0      M        64.0\n",
      "116        100.8      F        77.0\n",
      "117         97.8      F        71.0\n",
      "118         98.7      M        78.0\n",
      "119         98.4      F        74.0\n",
      "120         97.7      F        84.0\n",
      "121         97.9      F        68.0\n",
      "122         99.0      F        81.0\n",
      "123         97.2      F        66.0\n",
      "124         97.5      M        75.0\n",
      "125         96.3      M        70.0\n",
      "126         97.7      M        77.0\n",
      "127         98.2      F        73.0\n",
      "128         97.9      M        72.0\n",
      "129         98.7      F        59.0\n",
      "\n",
      "[130 rows x 3 columns]\n"
     ]
    }
   ],
   "source": [
    "df = pd.read_csv('data/human_body_temperature.csv')\n",
    "print df"
   ]
  },
  {
   "cell_type": "code",
   "execution_count": 1,
   "metadata": {
    "collapsed": false
   },
   "outputs": [],
   "source": [
    "#1) There are more than 30 entries. The distribution is normal and CLT applies"
   ]
  },
  {
   "cell_type": "code",
   "execution_count": null,
   "metadata": {
    "collapsed": true
   },
   "outputs": [],
   "source": [
    "#2)There are more than 30 samples, so use the z test.\n",
    "#Ho: True pop mean = 98.6\n",
    "#Ha: True pop mean is not equal to 98.6.\n",
    "#Assume alpha = 5%\n",
    "#look at z-table for 97.5%, as its a two-tailed test. we get z = 1.96"
   ]
  },
  {
   "cell_type": "code",
   "execution_count": 3,
   "metadata": {
    "collapsed": false
   },
   "outputs": [
    {
     "name": "stdout",
     "output_type": "stream",
     "text": [
      "98.2492307692\n"
     ]
    }
   ],
   "source": [
    "print df[\"temperature\"].mean()"
   ]
  },
  {
   "cell_type": "code",
   "execution_count": 4,
   "metadata": {
    "collapsed": false
   },
   "outputs": [
    {
     "name": "stdout",
     "output_type": "stream",
     "text": [
      "0.733183158039\n"
     ]
    }
   ],
   "source": [
    "print df[\"temperature\"].std()"
   ]
  },
  {
   "cell_type": "code",
   "execution_count": 8,
   "metadata": {
    "collapsed": false
   },
   "outputs": [],
   "source": [
    "sampleStdDev =  df[\"temperature\"].std()/math.sqrt(130) #we have 130 samples"
   ]
  },
  {
   "cell_type": "code",
   "execution_count": 9,
   "metadata": {
    "collapsed": false
   },
   "outputs": [
    {
     "data": {
      "text/plain": [
       "-5.454823292364079"
      ]
     },
     "execution_count": 9,
     "metadata": {},
     "output_type": "execute_result"
    }
   ],
   "source": [
    "z = (df[\"temperature\"].mean()  - 98.6)/sampleStdDev\n",
    "z\n",
    "#You get z = -5.45, which is more extreme than the z = 1.96. So reject H0, accept Ha."
   ]
  },
  {
   "cell_type": "code",
   "execution_count": 10,
   "metadata": {
    "collapsed": false
   },
   "outputs": [
    {
     "data": {
      "text/plain": [
       "98.12319411222852"
      ]
     },
     "execution_count": 10,
     "metadata": {},
     "output_type": "execute_result"
    }
   ],
   "source": [
    "#3) Confidence interval\n",
    "#CI\n",
    "lowerInterval = df[\"temperature\"].mean() - 1.96*df[\"temperature\"].std()/math.sqrt(130)\n",
    "lowerInterval"
   ]
  },
  {
   "cell_type": "code",
   "execution_count": 11,
   "metadata": {
    "collapsed": false
   },
   "outputs": [
    {
     "data": {
      "text/plain": [
       "98.37526742623304"
      ]
     },
     "execution_count": 11,
     "metadata": {},
     "output_type": "execute_result"
    }
   ],
   "source": [
    "higherInterval = df[\"temperature\"].mean() + 1.96*df[\"temperature\"].std()/math.sqrt(130)\n",
    "higherInterval\n",
    "#CI is in [lowerInterval,higherInterval]"
   ]
  },
  {
   "cell_type": "code",
   "execution_count": 13,
   "metadata": {
    "collapsed": false
   },
   "outputs": [],
   "source": [
    "#Question 4\n",
    "#male pop. mean = mu1\n",
    "#female pop. mean = mu2\n",
    "#Ho: no sig diff -> u1 - u2 = 0\n",
    "#Ha: sig diff-> u1 - u2 Not equal to 0\n",
    "m1 = df[df.gender == 'M']\n",
    "mmean1 = m1[\"temperature\"].mean()\n",
    "mstd1 = m1[\"temperature\"].std()"
   ]
  },
  {
   "cell_type": "code",
   "execution_count": 14,
   "metadata": {
    "collapsed": false
   },
   "outputs": [],
   "source": [
    "f1 = df[df.gender == \"F\"]\n",
    "fmean1 = f1[\"temperature\"].mean()\n",
    "fstd1 = f1[\"temperature\"].std()"
   ]
  },
  {
   "cell_type": "code",
   "execution_count": 15,
   "metadata": {
    "collapsed": false
   },
   "outputs": [
    {
     "data": {
      "text/plain": [
       "-0.289230769230727"
      ]
     },
     "execution_count": 15,
     "metadata": {},
     "output_type": "execute_result"
    }
   ],
   "source": [
    "mmean1 - fmean1"
   ]
  },
  {
   "cell_type": "code",
   "execution_count": 16,
   "metadata": {
    "collapsed": false
   },
   "outputs": [
    {
     "data": {
      "text/plain": [
       "0.016015902366863885"
      ]
     },
     "execution_count": 16,
     "metadata": {},
     "output_type": "execute_result"
    }
   ],
   "source": [
    "j = (mstd1**2)/len(m1) + (fstd1**2)/len(f1)\n",
    "j"
   ]
  },
  {
   "cell_type": "code",
   "execution_count": 17,
   "metadata": {
    "collapsed": false
   },
   "outputs": [
    {
     "data": {
      "text/plain": [
       "0.12655395041982642"
      ]
     },
     "execution_count": 17,
     "metadata": {},
     "output_type": "execute_result"
    }
   ],
   "source": [
    "k = math.sqrt(j)\n",
    "k"
   ]
  },
  {
   "cell_type": "code",
   "execution_count": 21,
   "metadata": {
    "collapsed": true
   },
   "outputs": [],
   "source": [
    "z1 = (mmean1 - fmean1- 0)/k                                                                                                                                                                                                                                                                                                                                                               "
   ]
  },
  {
   "cell_type": "code",
   "execution_count": 22,
   "metadata": {
    "collapsed": false
   },
   "outputs": [
    {
     "data": {
      "text/plain": [
       "-2.285434538165274"
      ]
     },
     "execution_count": 22,
     "metadata": {},
     "output_type": "execute_result"
    }
   ],
   "source": [
    "#compare to z = 1.96, 95% CI\n",
    "z1\n",
    "#got -2.28. value is more extreme, so reject h0, accept ha"
   ]
  },
  {
   "cell_type": "code",
   "execution_count": 20,
   "metadata": {
    "collapsed": false
   },
   "outputs": [
    {
     "data": {
      "text/plain": [
       "0.2480457428228598"
      ]
     },
     "execution_count": 20,
     "metadata": {},
     "output_type": "execute_result"
    }
   ],
   "source": [
    "#alternatve way to do hypothesis testing\n",
    "#compare to mu1 - mu2 = -0.289231\n",
    "1.96*k\n",
    "#so reject h0 accept ha"
   ]
  },
  {
   "cell_type": "code",
   "execution_count": null,
   "metadata": {
    "collapsed": true
   },
   "outputs": [],
   "source": []
  }
 ],
 "metadata": {
  "kernelspec": {
   "display_name": "Python 2",
   "language": "python",
   "name": "python2"
  },
  "language_info": {
   "codemirror_mode": {
    "name": "ipython",
    "version": 2
   },
   "file_extension": ".py",
   "mimetype": "text/x-python",
   "name": "python",
   "nbconvert_exporter": "python",
   "pygments_lexer": "ipython2",
   "version": "2.7.11"
  }
 },
 "nbformat": 4,
 "nbformat_minor": 0
}
